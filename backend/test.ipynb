{
 "cells": [
  {
   "cell_type": "code",
   "execution_count": 1,
   "metadata": {},
   "outputs": [
    {
     "name": "stderr",
     "output_type": "stream",
     "text": [
      "/home/huy/miniconda3/envs/llm/lib/python3.11/site-packages/tqdm/auto.py:21: TqdmWarning: IProgress not found. Please update jupyter and ipywidgets. See https://ipywidgets.readthedocs.io/en/stable/user_install.html\n",
      "  from .autonotebook import tqdm as notebook_tqdm\n"
     ]
    }
   ],
   "source": [
    "from app.containers import Container\n"
   ]
  },
  {
   "cell_type": "code",
   "execution_count": 2,
   "metadata": {},
   "outputs": [],
   "source": [
    "container = Container()\n",
    "container.config.from_yaml(\"config.yaml\")\n",
    "container.wire(modules=[__name__])\n"
   ]
  },
  {
   "cell_type": "code",
   "execution_count": 3,
   "metadata": {},
   "outputs": [
    {
     "name": "stdout",
     "output_type": "stream",
     "text": [
      "./vectorstore\n"
     ]
    }
   ],
   "source": [
    "conversation_manager = container.conversation_manager()\n"
   ]
  },
  {
   "cell_type": "code",
   "execution_count": null,
   "metadata": {},
   "outputs": [],
   "source": []
  },
  {
   "cell_type": "code",
   "execution_count": 4,
   "metadata": {},
   "outputs": [],
   "source": [
    "from uuid import UUID\n"
   ]
  },
  {
   "cell_type": "code",
   "execution_count": 5,
   "metadata": {},
   "outputs": [],
   "source": [
    "user_id =\"20ac0787-9bf6-4c40-bbe0-92dd5311257c\"\n",
    "workspace_id = \"10e02462-f36a-485b-a3ae-fb8b21f18c84\""
   ]
  },
  {
   "cell_type": "code",
   "execution_count": 6,
   "metadata": {},
   "outputs": [
    {
     "name": "stdout",
     "output_type": "stream",
     "text": [
      "2024-12-19 14:48:43,009 INFO sqlalchemy.engine.Engine select pg_catalog.version()\n",
      "2024-12-19 14:48:43,010 INFO sqlalchemy.engine.Engine [raw sql] ()\n",
      "2024-12-19 14:48:43,011 INFO sqlalchemy.engine.Engine select current_schema()\n",
      "2024-12-19 14:48:43,011 INFO sqlalchemy.engine.Engine [raw sql] ()\n",
      "2024-12-19 14:48:43,012 INFO sqlalchemy.engine.Engine show standard_conforming_strings\n",
      "2024-12-19 14:48:43,013 INFO sqlalchemy.engine.Engine [raw sql] ()\n",
      "2024-12-19 14:48:43,013 INFO sqlalchemy.engine.Engine BEGIN (implicit)\n",
      "2024-12-19 14:48:43,014 INFO sqlalchemy.engine.Engine INSERT INTO conversations (id, title, user_id, workspace_id, messages, updated_at) VALUES ($1::VARCHAR, $2::VARCHAR, $3::VARCHAR, $4::VARCHAR, $5::JSONB, $6::TIMESTAMP WITH TIME ZONE) RETURNING conversations.created_at\n",
      "2024-12-19 14:48:43,015 INFO sqlalchemy.engine.Engine [generated in 0.00036s] ('6e129e26-d55b-4ff7-956b-028ecc646790', 'ASEAN Chat Test', '20ac0787-9bf6-4c40-bbe0-92dd5311257c', '10e02462-f36a-485b-a3ae-fb8b21f18c84', '[]', None)\n",
      "2024-12-19 14:48:43,016 INFO sqlalchemy.engine.Engine COMMIT\n",
      "2024-12-19 14:48:43,030 INFO sqlalchemy.engine.Engine BEGIN (implicit)\n",
      "2024-12-19 14:48:43,031 INFO sqlalchemy.engine.Engine SELECT conversations.id, conversations.title, conversations.user_id, conversations.workspace_id, conversations.messages, conversations.created_at, conversations.updated_at \n",
      "FROM conversations \n",
      "WHERE conversations.id = $1::VARCHAR\n",
      "2024-12-19 14:48:43,032 INFO sqlalchemy.engine.Engine [generated in 0.00036s] ('6e129e26-d55b-4ff7-956b-028ecc646790',)\n",
      "Created conversation: 6e129e26-d55b-4ff7-956b-028ecc646790\n"
     ]
    }
   ],
   "source": [
    "conversation = await conversation_manager.create_conversation(\n",
    "    user_id=user_id,\n",
    "    workspace_id=workspace_id,\n",
    "    title=\"ASEAN Chat Test\"\n",
    ")\n",
    "print(f\"Created conversation: {conversation.id}\")"
   ]
  },
  {
   "cell_type": "code",
   "execution_count": 7,
   "metadata": {},
   "outputs": [],
   "source": [
    "from app.schema import Message\n",
    "from uuid import uuid4\n"
   ]
  },
  {
   "cell_type": "code",
   "execution_count": 12,
   "metadata": {},
   "outputs": [
    {
     "name": "stdout",
     "output_type": "stream",
     "text": [
      "\n",
      "User Message: Anh ấy quê ở đâu\n",
      "\n",
      "Agent Response (streaming):\n",
      "2024-12-19 14:50:06,223 INFO sqlalchemy.engine.Engine BEGIN (implicit)\n",
      "2024-12-19 14:50:06,224 INFO sqlalchemy.engine.Engine SELECT workspaces.id, workspaces.name, workspaces.document_database_name, workspaces.collection_name, workspaces.created_at, workspaces.updated_at, workspaces.admin_id \n",
      "FROM workspaces JOIN workspace_users AS workspace_users_1 ON workspaces.id = workspace_users_1.workspace_id JOIN users ON users.id = workspace_users_1.user_id \n",
      "WHERE workspaces.id = $1::VARCHAR AND users.id = $2::VARCHAR\n",
      "2024-12-19 14:50:06,224 INFO sqlalchemy.engine.Engine [cached since 77.36s ago] ('10e02462-f36a-485b-a3ae-fb8b21f18c84', '20ac0787-9bf6-4c40-bbe0-92dd5311257c')\n",
      "2024-12-19 14:50:06,226 INFO sqlalchemy.engine.Engine SELECT agents.id, agents.name, agents.system_prompt, agents.tools_config, agents.is_active, agents.created_at, agents.updated_at, agents.workspace_id, agents.metadata_ \n",
      "FROM agents \n",
      "WHERE agents.workspace_id = $1::VARCHAR\n",
      "2024-12-19 14:50:06,226 INFO sqlalchemy.engine.Engine [cached since 77.36s ago] ('10e02462-f36a-485b-a3ae-fb8b21f18c84',)\n",
      "Error storing agent in Redis: cannot pickle '_thread.RLock' object\n",
      "2024-12-19 14:50:06,227 INFO sqlalchemy.engine.Engine SELECT workspaces.id, workspaces.name, workspaces.document_database_name, workspaces.collection_name, workspaces.created_at, workspaces.updated_at, workspaces.admin_id \n",
      "FROM workspaces JOIN workspace_users AS workspace_users_1 ON workspaces.id = workspace_users_1.workspace_id JOIN users ON users.id = workspace_users_1.user_id \n",
      "WHERE workspaces.id = $1::VARCHAR AND users.id = $2::VARCHAR\n",
      "2024-12-19 14:50:06,228 INFO sqlalchemy.engine.Engine [cached since 77.37s ago] ('10e02462-f36a-485b-a3ae-fb8b21f18c84', '20ac0787-9bf6-4c40-bbe0-92dd5311257c')\n"
     ]
    },
    {
     "name": "stdout",
     "output_type": "stream",
     "text": [
      "Sơn Tùng M-TP quê ở Thái Bình, Việt Nam. Anh sinh ra và lớn lên tại đây trước khi chuyển đến Thành phố Hồ Chí Minh để phát triển sự nghiệp âm nhạc của mình.2024-12-19 14:50:08,450 INFO sqlalchemy.engine.Engine SELECT conversations.id, conversations.title, conversations.user_id, conversations.workspace_id, conversations.messages, conversations.created_at, conversations.updated_at \n",
      "FROM conversations \n",
      "WHERE conversations.id = $1::VARCHAR\n",
      "2024-12-19 14:50:08,451 INFO sqlalchemy.engine.Engine [cached since 79.58s ago] ('6e129e26-d55b-4ff7-956b-028ecc646790',)\n",
      "2024-12-19 14:50:08,453 INFO sqlalchemy.engine.Engine UPDATE conversations SET messages=$1::JSONB, updated_at=now() WHERE conversations.id = $2::VARCHAR\n",
      "2024-12-19 14:50:08,454 INFO sqlalchemy.engine.Engine [cached since 77.6s ago] ('[{\"id\": \"073d0454-946a-4662-b009-083c1c781bd4\", \"role\": \"user\", \"content\": \"T\\\\u00f4i \\\\u0111\\\\u00e3 n\\\\u00f3i nh\\\\u1eefng g\\\\u00ec\"}, {\"id\": \"48d3eb ... (2677 characters truncated) ... h\\\\u00e0nh ph\\\\u1ed1 H\\\\u1ed3 Ch\\\\u00ed Minh \\\\u0111\\\\u1ec3 ph\\\\u00e1t tri\\\\u1ec3n s\\\\u1ef1 nghi\\\\u1ec7p \\\\u00e2m nh\\\\u1ea1c c\\\\u1ee7a m\\\\u00ecnh.\"}]', '6e129e26-d55b-4ff7-956b-028ecc646790')\n",
      "2024-12-19 14:50:08,458 INFO sqlalchemy.engine.Engine COMMIT\n",
      "\n",
      "\n",
      "Full Response: Sơn Tùng M-TP quê ở Thái Bình, Việt Nam. Anh sinh ra và lớn lên tại đây trước khi chuyển đến Thành phố Hồ Chí Minh để phát triển sự nghiệp âm nhạc của mình.\n"
     ]
    }
   ],
   "source": [
    "message = Message(\n",
    "    id=str(uuid4()),\n",
    "    role=\"user\",\n",
    "    content=\"Anh ấy quê ở đâu\"  # Your actual question about ASEAN\n",
    ")\n",
    "\n",
    "# Since chat_response returns a coroutine, we use await instead of async for\n",
    "full_response = \"\"\n",
    "print(\"\\nUser Message:\", message.content)\n",
    "print(\"\\nAgent Response (streaming):\")\n",
    "async for chunk in conversation_manager.chat_response(\n",
    "    id=conversation.id,\n",
    "    message=message,\n",
    "    user_id=user_id,\n",
    "    workspace_id=workspace_id\n",
    "):\n",
    "    full_response += chunk\n",
    "    print(chunk, end=\"\", flush=True)  # Print each chunk as it arrives\n",
    "\n",
    "print(\"\\n\\nFull Response:\", full_response)"
   ]
  },
  {
   "cell_type": "code",
   "execution_count": null,
   "metadata": {},
   "outputs": [],
   "source": []
  }
 ],
 "metadata": {
  "kernelspec": {
   "display_name": "llm",
   "language": "python",
   "name": "python3"
  },
  "language_info": {
   "codemirror_mode": {
    "name": "ipython",
    "version": 3
   },
   "file_extension": ".py",
   "mimetype": "text/x-python",
   "name": "python",
   "nbconvert_exporter": "python",
   "pygments_lexer": "ipython3",
   "version": "3.11.10"
  }
 },
 "nbformat": 4,
 "nbformat_minor": 2
}
