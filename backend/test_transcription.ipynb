{
 "cells": [
  {
   "cell_type": "code",
   "execution_count": 7,
   "metadata": {},
   "outputs": [],
   "source": [
    "from groq import Groq\n",
    "import io\n",
    "import os"
   ]
  },
  {
   "cell_type": "code",
   "execution_count": 3,
   "metadata": {},
   "outputs": [],
   "source": [
    "client = Groq(api_key=\"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\")"
   ]
  },
  {
   "cell_type": "code",
   "execution_count": 39,
   "metadata": {},
   "outputs": [
    {
     "name": "stdout",
     "output_type": "stream",
     "text": [
      "0.13334423\n"
     ]
    }
   ],
   "source": [
    "with open(\"./sample_audio/audio_record.wav\", \"rb\") as audio_file:\n",
    "    transcription = client.audio.transcriptions.create(\n",
    "        model=\"whisper-large-v3\",\n",
    "        file=audio_file,\n",
    "        prompt=\"Transcribe the following audio about ASEAN, identifying and recognizing all spoken languages automatically.\",\n",
    "        response_format=\"verbose_json\"\n",
    "    )\n",
    "print(transcription.segments[0][\"no_speech_prob\"])\n",
    "\n"
   ]
  },
  {
   "cell_type": "code",
   "execution_count": 1,
   "metadata": {},
   "outputs": [],
   "source": [
    "import os\n",
    "import openai\n",
    "\n",
    "client = openai.OpenAI(\n",
    "  api_key=\"glhf_30f4f607d55786c262c73936f6c7df74\",\n",
    "  base_url=\"https://glhf.chat/api/openai/v1\",\n",
    ")"
   ]
  },
  {
   "cell_type": "code",
   "execution_count": 2,
   "metadata": {},
   "outputs": [
    {
     "name": "stdout",
     "output_type": "stream",
     "text": [
      "None\n",
      "(hic\n",
      "cup) Oh maaan... Hoang Sa... Tr\n",
      "uong Sa... (burp)... those are\n",
      "... (slurring)... Vietnamese islands\n",
      ", dude! (hiccup\n",
      ") Yeah! They... (\n",
      "mumbling) belong to... Vietnam! (slurring\n",
      ") We got... historical\n",
      " evidence... and...\n",
      " (burp) international law... on our\n",
      " side, man! (hiccup) China can\n",
      "... (mumbling) try to claim 'em\n",
      ", but... (slurring) no way, dude! They're\n",
      "... (proudly) ours! Hoang\n",
      " Sa, Truong Sa... (singing) Viet Nam\n",
      ", Viet Nam... (laugh\n",
      "ing)\n",
      "None\n"
     ]
    }
   ],
   "source": [
    "completion = client.chat.completions.create(\n",
    "  model=\"hf:meta-llama/Llama-3.3-70B-Instruct\",\n",
    "  messages=[\n",
    "    {\"role\": \"system\", \"content\": \"You are very drunky man.\"},\n",
    "    {\"role\": \"user\", \"content\": \"Hoàng Sa Trường Sa thuộc về nước nào ?\"}\n",
    "  ],\n",
    "\n",
    "  stream=True\n",
    ")\n",
    "\n",
    "for chunk in completion:\n",
    "    print(chunk.choices[0].delta.content)"
   ]
  },
  {
   "cell_type": "code",
   "execution_count": 8,
   "metadata": {},
   "outputs": [],
   "source": [
    "from typing import List, Generator\n",
    "import re"
   ]
  },
  {
   "cell_type": "code",
   "execution_count": 6,
   "metadata": {},
   "outputs": [],
   "source": [
    "def split_into_sentences(text: str) -> List[str]:\n",
    "    \"\"\"Split text into sentences while preserving punctuation.\"\"\"\n",
    "    # Basic sentence splitting on .!?\n",
    "    sentences = re.split(r'(?<=[.!?])\\s+', text)\n",
    "    return [s.strip() for s in sentences if s.strip()]"
   ]
  },
  {
   "cell_type": "code",
   "execution_count": 9,
   "metadata": {},
   "outputs": [],
   "source": [
    "def chunk_text(text: str, min_chunk_size: int = 50) -> Generator[str, None, None]:\n",
    "    \"\"\"Yield chunks of text, trying to break at sentence boundaries.\"\"\"\n",
    "    buffer = \"\"\n",
    "    sentences = split_into_sentences(text)\n",
    "    \n",
    "    for sentence in sentences:\n",
    "        buffer += sentence + \" \"\n",
    "        if len(buffer) >= min_chunk_size:\n",
    "            yield buffer.strip()\n",
    "            buffer = \"\"\n",
    "    \n",
    "    if buffer:  # Don't forget the last piece\n",
    "        yield buffer.strip()"
   ]
  },
  {
   "cell_type": "code",
   "execution_count": 12,
   "metadata": {},
   "outputs": [
    {
     "name": "stdout",
     "output_type": "stream",
     "text": [
      "Hello, how are you? I am fine, thank you. Hello, how are you?\n",
      "I am fine, thank you. Hello, how are you? I am fine, thank you.\n",
      "Hello, how are you? I am fine, thank you. acvaqweasdfasda sqweqwe qư\n"
     ]
    }
   ],
   "source": [
    "for chunk in chunk_text(\"Hello, how are you? I am fine, thank you. Hello, how are you? I am fine, thank you. Hello, how are you? I am fine, thank you. Hello, how are you? I am fine, thank you. acvaqweasdfasda sqweqwe qư \"):\n",
    "    print(chunk)"
   ]
  },
  {
   "cell_type": "code",
   "execution_count": null,
   "metadata": {},
   "outputs": [],
   "source": []
  }
 ],
 "metadata": {
  "kernelspec": {
   "display_name": "kotaemon",
   "language": "python",
   "name": "python3"
  },
  "language_info": {
   "codemirror_mode": {
    "name": "ipython",
    "version": 3
   },
   "file_extension": ".py",
   "mimetype": "text/x-python",
   "name": "python",
   "nbconvert_exporter": "python",
   "pygments_lexer": "ipython3",
   "version": "3.11.10"
  }
 },
 "nbformat": 4,
 "nbformat_minor": 2
}
