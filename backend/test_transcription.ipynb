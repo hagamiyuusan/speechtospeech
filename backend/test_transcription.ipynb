{
 "cells": [
  {
   "cell_type": "code",
   "execution_count": 7,
   "metadata": {},
   "outputs": [],
   "source": [
    "from groq import Groq\n",
    "import io\n",
    "import os"
   ]
  },
  {
   "cell_type": "code",
   "execution_count": 3,
   "metadata": {},
   "outputs": [],
   "source": [
    "client = Groq(api_key=\"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\")"
   ]
  },
  {
   "cell_type": "code",
   "execution_count": 21,
   "metadata": {},
   "outputs": [
    {
     "name": "stdout",
     "output_type": "stream",
     "text": [
      "Transcription(text=' Kệ tên thủ đô của các quốc gia ASEAN.', task='transcribe', language='Vietnamese', duration=4.64, segments=[{'id': 0, 'seek': 0, 'start': 0, 'end': 4.24, 'text': ' Kệ tên thủ đô của các quốc gia ASEAN.', 'tokens': [50365, 591, 8471, 256, 5050, 258, 28903, 2934, 2851, 11990, 13250, 421, 24426, 39689, 316, 5879, 1770, 13, 50577], 'temperature': 0, 'avg_logprob': -0.2193058, 'compression_ratio': 0.8596491, 'no_speech_prob': 0.09442639}], x_groq={'id': 'req_01jewj9k25etsta95jyxgcewen'})\n"
     ]
    }
   ],
   "source": [
    "with open(\"./sample_audio/audio_record.wav\", \"rb\") as audio_file:\n",
    "    transcription = client.audio.transcriptions.create(\n",
    "        model=\"whisper-large-v3\",\n",
    "        file=audio_file,\n",
    "        prompt=\"his audio contains a conversation about ASEAN which contains multiple languages. Please transcribe accurately.\",\n",
    "        response_format=\"verbose_json\"\n",
    "    )\n",
    "print(transcription)"
   ]
  },
  {
   "cell_type": "code",
   "execution_count": null,
   "metadata": {},
   "outputs": [],
   "source": []
  }
 ],
 "metadata": {
  "kernelspec": {
   "display_name": "kotaemon",
   "language": "python",
   "name": "python3"
  },
  "language_info": {
   "codemirror_mode": {
    "name": "ipython",
    "version": 3
   },
   "file_extension": ".py",
   "mimetype": "text/x-python",
   "name": "python",
   "nbconvert_exporter": "python",
   "pygments_lexer": "ipython3",
   "version": "3.11.9"
  }
 },
 "nbformat": 4,
 "nbformat_minor": 2
}
