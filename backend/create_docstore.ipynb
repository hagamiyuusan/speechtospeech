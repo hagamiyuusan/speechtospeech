{
 "cells": [
  {
   "cell_type": "code",
   "execution_count": null,
   "metadata": {},
   "outputs": [],
   "source": [
    "from retrieval_handler.docstore_handler import DocumentStoreHandler\n",
    "from retrieval_handler.vectorstore_handler import VectorStoreHandler\n",
    "\n",
    "docstore = DocumentStoreHandler(uri=\"./docstore\", table_name=\"asian_docstore\")\n",
    "vectorstore = VectorStoreHandler(collection_name=\"asian_vectorstore\", path=\"./vectorstore\")\n",
    "\n",
    "\n"
   ]
  },
  {
   "cell_type": "code",
   "execution_count": 5,
   "metadata": {},
   "outputs": [],
   "source": []
  },
  {
   "cell_type": "code",
   "execution_count": null,
   "metadata": {},
   "outputs": [],
   "source": [
    "from app.containers import Container\n",
    "container = Container()\n",
    "container.config.from_yaml(\"config.yaml\")\n",
    "\n",
    "container.wire(modules=[__name__])\n",
    "chat_service = container.chat_service()\n",
    "from uuid import UUID, uuid4\n",
    "from app.schema import Message\n",
    "\n",
    "async for content in chat_service.stream_response(id=uuid4(), message=Message(id = str(uuid4()), role=\"user\", content=\"Xin chào?\")):\n",
    "    print(content, end='', flush=True)\n"
   ]
  },
  {
   "cell_type": "code",
   "execution_count": null,
   "metadata": {},
   "outputs": [],
   "source": [
    "from uuid import UUID, uuid4\n",
    "from app.schema import Message\n",
    "\n",
    "async for content in chat_service.stream_response(id=uuid4(), message=Message(id = str(uuid4()), role=\"user\", content=\"Việt Nam gia nhập ASEAN vào năm nào?\")):\n",
    "    print(content, end='', flush=True)\n"
   ]
  },
  {
   "cell_type": "code",
   "execution_count": null,
   "metadata": {},
   "outputs": [],
   "source": [
    "#write code to load config from config.yaml\n",
    "from yaml import load, Loader\n",
    "with open(\"config.yaml\", \"r\") as f:\n",
    "    config = load(f, Loader=Loader)\n",
    "config\n"
   ]
  },
  {
   "cell_type": "code",
   "execution_count": 8,
   "metadata": {},
   "outputs": [],
   "source": [
    "import asyncio\n",
    "from openai import AsyncOpenAI\n",
    "client = AsyncOpenAI(api_key=config[\"llm\"][\"api_key\"])\n",
    "import pyaudio\n",
    "\n",
    "async def stream_audio():\n",
    "    p = pyaudio.PyAudio()\n",
    "    stream = p.open(format=8,\n",
    "                    channels=1,\n",
    "                    rate=24_000,\n",
    "                    output=True)\n",
    "\n",
    "    async with client.audio.speech.with_streaming_response.create(\n",
    "            model=\"tts-1\",\n",
    "            voice=\"alloy\",\n",
    "            input=\"\"\"InvokerAI có thể nói là sự kết hợp của Automatic1111 và ComfyUI kèm với đó là sự nâng cấp đang kể về giao diện hiện đại hơn. Hiện tại InvokerAI có thể hoạt động trên cả 2 loại generate ảnh là workflow note kéo thả và generate ảnh mặc định theo giao diện có sẵn. Invoker khá chú trọng tới trải nghiệm người dùng khi cho phép quản lý ảnh và thư viện tài nguyên một cách nhất quán ngay trên giao diện sử dụng. Tuy nhiên Invoker lại không cho phép phát triển các extension mở, các update công nghệ mới khá chậm dẫn đến việc khá kén người dùng phổ thông. Ngoài ra khi sử dụng Invoker AI, các cú pháp về prompt cũng được viết khác hoàn toàn cho với ComfyUI và Automatic cũng là một điểm trừ khiến cho người dùng khó tiếp cận.\"\"\",\n",
    "            response_format=\"pcm\"\n",
    "    ) as response:\n",
    "        async for chunk in response.iter_bytes(1024):\n",
    "            stream.write(chunk)\n",
    "            yield chunk\n",
    "\n",
    "    stream.stop_stream()\n",
    "    stream.close()\n",
    "    p.terminate()\n",
    "\n",
    "# To run the async generator in Jupyter notebook\n",
    "async for chunk in stream_audio():\n",
    "    pass  # or do something with each chunk if needed"
   ]
  },
  {
   "cell_type": "code",
   "execution_count": 4,
   "metadata": {},
   "outputs": [],
   "source": [
    "from voice.stt import STT\n",
    "from fastapi import UploadFile\n",
    "stt = STT(api_key=config[\"llm\"][\"groq_api_key\"])\n",
    "import io\n",
    "# Open the file in binary mode ('rb')\n"
   ]
  },
  {
   "cell_type": "code",
   "execution_count": null,
   "metadata": {},
   "outputs": [],
   "source": [
    "with open(\"./sample-0.mp3\", \"rb\") as f:\n",
    "    file_content = f.read()\n",
    "    # Create UploadFile with the file content\n",
    "    upload_file = UploadFile(filename=\"sample-0.mp3\", file=io.BytesIO(file_content))\n",
    "    result = await stt.generate_audio(upload_file)\n",
    "result"
   ]
  },
  {
   "cell_type": "code",
   "execution_count": null,
   "metadata": {},
   "outputs": [],
   "source": [
    "import aiohttp\n",
    "import asyncio\n",
    "import io\n",
    "\n",
    "async def test_stt_endpoint():\n",
    "    # Replace with your actual audio file path\n",
    "    audio_file_path = \"./sample-0.mp3\"\n",
    "    \n",
    "    # Read the audio file\n",
    "    with open(audio_file_path, \"rb\") as f:\n",
    "        file_content = f.read()\n",
    "    \n",
    "    # Create the form data\n",
    "    data = aiohttp.FormData()\n",
    "    data.add_field('input',\n",
    "                   io.BytesIO(file_content),\n",
    "                   filename='audio.mp3',\n",
    "                   content_type='audio/mpeg')\n",
    "    \n",
    "    # Make the request\n",
    "    async with aiohttp.ClientSession() as session:\n",
    "        async with session.post('http://localhost:8000/stt', data=data) as response:\n",
    "            # Print status\n",
    "            print(f\"Status: {response.status}\")\n",
    "            \n",
    "            # Get the response\n",
    "            result = await response.text()\n",
    "            print(f\"Response: {result}\")\n",
    "\n",
    "# Run the test\n",
    "await test_stt_endpoint()"
   ]
  },
  {
   "cell_type": "code",
   "execution_count": 2,
   "metadata": {},
   "outputs": [
    {
     "ename": "CancelledError",
     "evalue": "",
     "output_type": "error",
     "traceback": [
      "\u001b[1;31m---------------------------------------------------------------------------\u001b[0m",
      "\u001b[1;31mCancelledError\u001b[0m                            Traceback (most recent call last)",
      "Cell \u001b[1;32mIn[2], line 49\u001b[0m\n\u001b[0;32m     46\u001b[0m nest_asyncio\u001b[38;5;241m.\u001b[39mapply()\n\u001b[0;32m     48\u001b[0m \u001b[38;5;66;03m# Run the test\u001b[39;00m\n\u001b[1;32m---> 49\u001b[0m \u001b[38;5;28;01mawait\u001b[39;00m test_chat_and_save_audio()\n",
      "Cell \u001b[1;32mIn[2], line 28\u001b[0m, in \u001b[0;36mtest_chat_and_save_audio\u001b[1;34m()\u001b[0m\n\u001b[0;32m     25\u001b[0m filename \u001b[38;5;241m=\u001b[39m \u001b[38;5;124mf\u001b[39m\u001b[38;5;124m\"\u001b[39m\u001b[38;5;124maudio/response_\u001b[39m\u001b[38;5;132;01m{\u001b[39;00mtimestamp\u001b[38;5;132;01m}\u001b[39;00m\u001b[38;5;124m.mp3\u001b[39m\u001b[38;5;124m\"\u001b[39m\n\u001b[0;32m     27\u001b[0m \u001b[38;5;28;01masync\u001b[39;00m \u001b[38;5;28;01mwith\u001b[39;00m aiohttp\u001b[38;5;241m.\u001b[39mClientSession() \u001b[38;5;28;01mas\u001b[39;00m session:\n\u001b[1;32m---> 28\u001b[0m     \u001b[38;5;28;01masync\u001b[39;00m \u001b[38;5;28;01mwith\u001b[39;00m session\u001b[38;5;241m.\u001b[39mpost(API_URL, json\u001b[38;5;241m=\u001b[39mrequest_data) \u001b[38;5;28;01mas\u001b[39;00m response:\n\u001b[0;32m     29\u001b[0m         \u001b[38;5;28mprint\u001b[39m(\u001b[38;5;124mf\u001b[39m\u001b[38;5;124m\"\u001b[39m\u001b[38;5;124mStatus: \u001b[39m\u001b[38;5;132;01m{\u001b[39;00mresponse\u001b[38;5;241m.\u001b[39mstatus\u001b[38;5;132;01m}\u001b[39;00m\u001b[38;5;124m\"\u001b[39m)\n\u001b[0;32m     31\u001b[0m         \u001b[38;5;28;01mif\u001b[39;00m response\u001b[38;5;241m.\u001b[39mstatus \u001b[38;5;241m==\u001b[39m \u001b[38;5;241m200\u001b[39m:\n\u001b[0;32m     32\u001b[0m             \u001b[38;5;66;03m# Mở file để ghi\u001b[39;00m\n",
      "File \u001b[1;32mc:\\Users\\This PC\\miniconda3\\envs\\asia\\lib\\site-packages\\aiohttp\\client.py:1359\u001b[0m, in \u001b[0;36m_BaseRequestContextManager.__aenter__\u001b[1;34m(self)\u001b[0m\n\u001b[0;32m   1358\u001b[0m \u001b[38;5;28;01masync\u001b[39;00m \u001b[38;5;28;01mdef\u001b[39;00m \u001b[38;5;21m__aenter__\u001b[39m(\u001b[38;5;28mself\u001b[39m) \u001b[38;5;241m-\u001b[39m\u001b[38;5;241m>\u001b[39m _RetType:\n\u001b[1;32m-> 1359\u001b[0m     \u001b[38;5;28mself\u001b[39m\u001b[38;5;241m.\u001b[39m_resp: _RetType \u001b[38;5;241m=\u001b[39m \u001b[38;5;28;01mawait\u001b[39;00m \u001b[38;5;28mself\u001b[39m\u001b[38;5;241m.\u001b[39m_coro\n\u001b[0;32m   1360\u001b[0m     \u001b[38;5;28;01mreturn\u001b[39;00m \u001b[38;5;28;01mawait\u001b[39;00m \u001b[38;5;28mself\u001b[39m\u001b[38;5;241m.\u001b[39m_resp\u001b[38;5;241m.\u001b[39m\u001b[38;5;21m__aenter__\u001b[39m()\n",
      "File \u001b[1;32mc:\\Users\\This PC\\miniconda3\\envs\\asia\\lib\\site-packages\\aiohttp\\client.py:663\u001b[0m, in \u001b[0;36mClientSession._request\u001b[1;34m(self, method, str_or_url, params, data, json, cookies, headers, skip_auto_headers, auth, allow_redirects, max_redirects, compress, chunked, expect100, raise_for_status, read_until_eof, proxy, proxy_auth, timeout, verify_ssl, fingerprint, ssl_context, ssl, server_hostname, proxy_headers, trace_request_ctx, read_bufsize, auto_decompress, max_line_size, max_field_size)\u001b[0m\n\u001b[0;32m    658\u001b[0m \u001b[38;5;28;01mtry\u001b[39;00m:\n\u001b[0;32m    659\u001b[0m     \u001b[38;5;28;01masync\u001b[39;00m \u001b[38;5;28;01mwith\u001b[39;00m ceil_timeout(\n\u001b[0;32m    660\u001b[0m         real_timeout\u001b[38;5;241m.\u001b[39mconnect,\n\u001b[0;32m    661\u001b[0m         ceil_threshold\u001b[38;5;241m=\u001b[39mreal_timeout\u001b[38;5;241m.\u001b[39mceil_threshold,\n\u001b[0;32m    662\u001b[0m     ):\n\u001b[1;32m--> 663\u001b[0m         conn \u001b[38;5;241m=\u001b[39m \u001b[38;5;28;01mawait\u001b[39;00m \u001b[38;5;28mself\u001b[39m\u001b[38;5;241m.\u001b[39m_connector\u001b[38;5;241m.\u001b[39mconnect(\n\u001b[0;32m    664\u001b[0m             req, traces\u001b[38;5;241m=\u001b[39mtraces, timeout\u001b[38;5;241m=\u001b[39mreal_timeout\n\u001b[0;32m    665\u001b[0m         )\n\u001b[0;32m    666\u001b[0m \u001b[38;5;28;01mexcept\u001b[39;00m asyncio\u001b[38;5;241m.\u001b[39mTimeoutError \u001b[38;5;28;01mas\u001b[39;00m exc:\n\u001b[0;32m    667\u001b[0m     \u001b[38;5;28;01mraise\u001b[39;00m ConnectionTimeoutError(\n\u001b[0;32m    668\u001b[0m         \u001b[38;5;124mf\u001b[39m\u001b[38;5;124m\"\u001b[39m\u001b[38;5;124mConnection timeout to host \u001b[39m\u001b[38;5;132;01m{\u001b[39;00murl\u001b[38;5;132;01m}\u001b[39;00m\u001b[38;5;124m\"\u001b[39m\n\u001b[0;32m    669\u001b[0m     ) \u001b[38;5;28;01mfrom\u001b[39;00m \u001b[38;5;21;01mexc\u001b[39;00m\n",
      "File \u001b[1;32mc:\\Users\\This PC\\miniconda3\\envs\\asia\\lib\\site-packages\\aiohttp\\connector.py:563\u001b[0m, in \u001b[0;36mBaseConnector.connect\u001b[1;34m(self, req, traces, timeout)\u001b[0m\n\u001b[0;32m    560\u001b[0m         \u001b[38;5;28;01mawait\u001b[39;00m trace\u001b[38;5;241m.\u001b[39msend_connection_create_start()\n\u001b[0;32m    562\u001b[0m \u001b[38;5;28;01mtry\u001b[39;00m:\n\u001b[1;32m--> 563\u001b[0m     proto \u001b[38;5;241m=\u001b[39m \u001b[38;5;28;01mawait\u001b[39;00m \u001b[38;5;28mself\u001b[39m\u001b[38;5;241m.\u001b[39m_create_connection(req, traces, timeout)\n\u001b[0;32m    564\u001b[0m     \u001b[38;5;28;01mif\u001b[39;00m \u001b[38;5;28mself\u001b[39m\u001b[38;5;241m.\u001b[39m_closed:\n\u001b[0;32m    565\u001b[0m         proto\u001b[38;5;241m.\u001b[39mclose()\n",
      "File \u001b[1;32mc:\\Users\\This PC\\miniconda3\\envs\\asia\\lib\\site-packages\\aiohttp\\connector.py:1032\u001b[0m, in \u001b[0;36mTCPConnector._create_connection\u001b[1;34m(self, req, traces, timeout)\u001b[0m\n\u001b[0;32m   1030\u001b[0m     _, proto \u001b[38;5;241m=\u001b[39m \u001b[38;5;28;01mawait\u001b[39;00m \u001b[38;5;28mself\u001b[39m\u001b[38;5;241m.\u001b[39m_create_proxy_connection(req, traces, timeout)\n\u001b[0;32m   1031\u001b[0m \u001b[38;5;28;01melse\u001b[39;00m:\n\u001b[1;32m-> 1032\u001b[0m     _, proto \u001b[38;5;241m=\u001b[39m \u001b[38;5;28;01mawait\u001b[39;00m \u001b[38;5;28mself\u001b[39m\u001b[38;5;241m.\u001b[39m_create_direct_connection(req, traces, timeout)\n\u001b[0;32m   1034\u001b[0m \u001b[38;5;28;01mreturn\u001b[39;00m proto\n",
      "File \u001b[1;32mc:\\Users\\This PC\\miniconda3\\envs\\asia\\lib\\site-packages\\aiohttp\\connector.py:1335\u001b[0m, in \u001b[0;36mTCPConnector._create_direct_connection\u001b[1;34m(self, req, traces, timeout, client_error)\u001b[0m\n\u001b[0;32m   1330\u001b[0m server_hostname \u001b[38;5;241m=\u001b[39m (\n\u001b[0;32m   1331\u001b[0m     (req\u001b[38;5;241m.\u001b[39mserver_hostname \u001b[38;5;129;01mor\u001b[39;00m host)\u001b[38;5;241m.\u001b[39mrstrip(\u001b[38;5;124m\"\u001b[39m\u001b[38;5;124m.\u001b[39m\u001b[38;5;124m\"\u001b[39m) \u001b[38;5;28;01mif\u001b[39;00m sslcontext \u001b[38;5;28;01melse\u001b[39;00m \u001b[38;5;28;01mNone\u001b[39;00m\n\u001b[0;32m   1332\u001b[0m )\n\u001b[0;32m   1334\u001b[0m \u001b[38;5;28;01mtry\u001b[39;00m:\n\u001b[1;32m-> 1335\u001b[0m     transp, proto \u001b[38;5;241m=\u001b[39m \u001b[38;5;28;01mawait\u001b[39;00m \u001b[38;5;28mself\u001b[39m\u001b[38;5;241m.\u001b[39m_wrap_create_connection(\n\u001b[0;32m   1336\u001b[0m         \u001b[38;5;28mself\u001b[39m\u001b[38;5;241m.\u001b[39m_factory,\n\u001b[0;32m   1337\u001b[0m         timeout\u001b[38;5;241m=\u001b[39mtimeout,\n\u001b[0;32m   1338\u001b[0m         ssl\u001b[38;5;241m=\u001b[39msslcontext,\n\u001b[0;32m   1339\u001b[0m         addr_infos\u001b[38;5;241m=\u001b[39maddr_infos,\n\u001b[0;32m   1340\u001b[0m         server_hostname\u001b[38;5;241m=\u001b[39mserver_hostname,\n\u001b[0;32m   1341\u001b[0m         req\u001b[38;5;241m=\u001b[39mreq,\n\u001b[0;32m   1342\u001b[0m         client_error\u001b[38;5;241m=\u001b[39mclient_error,\n\u001b[0;32m   1343\u001b[0m     )\n\u001b[0;32m   1344\u001b[0m \u001b[38;5;28;01mexcept\u001b[39;00m (ClientConnectorError, asyncio\u001b[38;5;241m.\u001b[39mTimeoutError) \u001b[38;5;28;01mas\u001b[39;00m exc:\n\u001b[0;32m   1345\u001b[0m     last_exc \u001b[38;5;241m=\u001b[39m exc\n",
      "File \u001b[1;32mc:\\Users\\This PC\\miniconda3\\envs\\asia\\lib\\site-packages\\aiohttp\\connector.py:1091\u001b[0m, in \u001b[0;36mTCPConnector._wrap_create_connection\u001b[1;34m(self, addr_infos, req, timeout, client_error, *args, **kwargs)\u001b[0m\n\u001b[0;32m   1087\u001b[0m \u001b[38;5;28;01mtry\u001b[39;00m:\n\u001b[0;32m   1088\u001b[0m     \u001b[38;5;28;01masync\u001b[39;00m \u001b[38;5;28;01mwith\u001b[39;00m ceil_timeout(\n\u001b[0;32m   1089\u001b[0m         timeout\u001b[38;5;241m.\u001b[39msock_connect, ceil_threshold\u001b[38;5;241m=\u001b[39mtimeout\u001b[38;5;241m.\u001b[39mceil_threshold\n\u001b[0;32m   1090\u001b[0m     ):\n\u001b[1;32m-> 1091\u001b[0m         sock \u001b[38;5;241m=\u001b[39m \u001b[38;5;28;01mawait\u001b[39;00m aiohappyeyeballs\u001b[38;5;241m.\u001b[39mstart_connection(\n\u001b[0;32m   1092\u001b[0m             addr_infos\u001b[38;5;241m=\u001b[39maddr_infos,\n\u001b[0;32m   1093\u001b[0m             local_addr_infos\u001b[38;5;241m=\u001b[39m\u001b[38;5;28mself\u001b[39m\u001b[38;5;241m.\u001b[39m_local_addr_infos,\n\u001b[0;32m   1094\u001b[0m             happy_eyeballs_delay\u001b[38;5;241m=\u001b[39m\u001b[38;5;28mself\u001b[39m\u001b[38;5;241m.\u001b[39m_happy_eyeballs_delay,\n\u001b[0;32m   1095\u001b[0m             interleave\u001b[38;5;241m=\u001b[39m\u001b[38;5;28mself\u001b[39m\u001b[38;5;241m.\u001b[39m_interleave,\n\u001b[0;32m   1096\u001b[0m             loop\u001b[38;5;241m=\u001b[39m\u001b[38;5;28mself\u001b[39m\u001b[38;5;241m.\u001b[39m_loop,\n\u001b[0;32m   1097\u001b[0m         )\n\u001b[0;32m   1098\u001b[0m         \u001b[38;5;28;01mreturn\u001b[39;00m \u001b[38;5;28;01mawait\u001b[39;00m \u001b[38;5;28mself\u001b[39m\u001b[38;5;241m.\u001b[39m_loop\u001b[38;5;241m.\u001b[39mcreate_connection(\u001b[38;5;241m*\u001b[39margs, \u001b[38;5;241m*\u001b[39m\u001b[38;5;241m*\u001b[39mkwargs, sock\u001b[38;5;241m=\u001b[39msock)\n\u001b[0;32m   1099\u001b[0m \u001b[38;5;28;01mexcept\u001b[39;00m cert_errors \u001b[38;5;28;01mas\u001b[39;00m exc:\n",
      "File \u001b[1;32mc:\\Users\\This PC\\miniconda3\\envs\\asia\\lib\\site-packages\\aiohappyeyeballs\\impl.py:89\u001b[0m, in \u001b[0;36mstart_connection\u001b[1;34m(addr_infos, local_addr_infos, happy_eyeballs_delay, interleave, loop)\u001b[0m\n\u001b[0;32m     87\u001b[0m             \u001b[38;5;28;01mcontinue\u001b[39;00m\n\u001b[0;32m     88\u001b[0m \u001b[38;5;28;01melse\u001b[39;00m:  \u001b[38;5;66;03m# using happy eyeballs\u001b[39;00m\n\u001b[1;32m---> 89\u001b[0m     sock, _, _ \u001b[38;5;241m=\u001b[39m \u001b[38;5;28;01mawait\u001b[39;00m _staggered\u001b[38;5;241m.\u001b[39mstaggered_race(\n\u001b[0;32m     90\u001b[0m         (\n\u001b[0;32m     91\u001b[0m             functools\u001b[38;5;241m.\u001b[39mpartial(\n\u001b[0;32m     92\u001b[0m                 _connect_sock, current_loop, exceptions, addrinfo, local_addr_infos\n\u001b[0;32m     93\u001b[0m             )\n\u001b[0;32m     94\u001b[0m             \u001b[38;5;28;01mfor\u001b[39;00m addrinfo \u001b[38;5;129;01min\u001b[39;00m addr_infos\n\u001b[0;32m     95\u001b[0m         ),\n\u001b[0;32m     96\u001b[0m         happy_eyeballs_delay,\n\u001b[0;32m     97\u001b[0m     )\n\u001b[0;32m     99\u001b[0m \u001b[38;5;28;01mif\u001b[39;00m sock \u001b[38;5;129;01mis\u001b[39;00m \u001b[38;5;28;01mNone\u001b[39;00m:\n\u001b[0;32m    100\u001b[0m     all_exceptions \u001b[38;5;241m=\u001b[39m [exc \u001b[38;5;28;01mfor\u001b[39;00m sub \u001b[38;5;129;01min\u001b[39;00m exceptions \u001b[38;5;28;01mfor\u001b[39;00m exc \u001b[38;5;129;01min\u001b[39;00m sub]\n",
      "File \u001b[1;32mc:\\Users\\This PC\\miniconda3\\envs\\asia\\lib\\site-packages\\aiohappyeyeballs\\_staggered.py:160\u001b[0m, in \u001b[0;36mstaggered_race\u001b[1;34m(coro_fns, delay, loop)\u001b[0m\n\u001b[0;32m    157\u001b[0m     \u001b[38;5;28;01mbreak\u001b[39;00m\n\u001b[0;32m    159\u001b[0m \u001b[38;5;28;01mwhile\u001b[39;00m tasks:\n\u001b[1;32m--> 160\u001b[0m     done \u001b[38;5;241m=\u001b[39m \u001b[38;5;28;01mawait\u001b[39;00m _wait_one(\n\u001b[0;32m    161\u001b[0m         [\u001b[38;5;241m*\u001b[39mtasks, start_next] \u001b[38;5;28;01mif\u001b[39;00m start_next \u001b[38;5;28;01melse\u001b[39;00m tasks, loop\n\u001b[0;32m    162\u001b[0m     )\n\u001b[0;32m    163\u001b[0m     \u001b[38;5;28;01mif\u001b[39;00m done \u001b[38;5;129;01mis\u001b[39;00m start_next:\n\u001b[0;32m    164\u001b[0m         \u001b[38;5;66;03m# The current task has failed or the timer has expired\u001b[39;00m\n\u001b[0;32m    165\u001b[0m         \u001b[38;5;66;03m# so we need to start the next task.\u001b[39;00m\n\u001b[0;32m    166\u001b[0m         start_next \u001b[38;5;241m=\u001b[39m \u001b[38;5;28;01mNone\u001b[39;00m\n",
      "File \u001b[1;32mc:\\Users\\This PC\\miniconda3\\envs\\asia\\lib\\site-packages\\aiohappyeyeballs\\_staggered.py:41\u001b[0m, in \u001b[0;36m_wait_one\u001b[1;34m(futures, loop)\u001b[0m\n\u001b[0;32m     38\u001b[0m     f\u001b[38;5;241m.\u001b[39madd_done_callback(_on_completion)\n\u001b[0;32m     40\u001b[0m \u001b[38;5;28;01mtry\u001b[39;00m:\n\u001b[1;32m---> 41\u001b[0m     \u001b[38;5;28;01mreturn\u001b[39;00m \u001b[38;5;28;01mawait\u001b[39;00m wait_next\n\u001b[0;32m     42\u001b[0m \u001b[38;5;28;01mfinally\u001b[39;00m:\n\u001b[0;32m     43\u001b[0m     \u001b[38;5;28;01mfor\u001b[39;00m f \u001b[38;5;129;01min\u001b[39;00m futures:\n",
      "File \u001b[1;32mc:\\Users\\This PC\\miniconda3\\envs\\asia\\lib\\asyncio\\futures.py:285\u001b[0m, in \u001b[0;36mFuture.__await__\u001b[1;34m(self)\u001b[0m\n\u001b[0;32m    283\u001b[0m \u001b[38;5;28;01mif\u001b[39;00m \u001b[38;5;129;01mnot\u001b[39;00m \u001b[38;5;28mself\u001b[39m\u001b[38;5;241m.\u001b[39mdone():\n\u001b[0;32m    284\u001b[0m     \u001b[38;5;28mself\u001b[39m\u001b[38;5;241m.\u001b[39m_asyncio_future_blocking \u001b[38;5;241m=\u001b[39m \u001b[38;5;28;01mTrue\u001b[39;00m\n\u001b[1;32m--> 285\u001b[0m     \u001b[38;5;28;01myield\u001b[39;00m \u001b[38;5;28mself\u001b[39m  \u001b[38;5;66;03m# This tells Task to wait for completion.\u001b[39;00m\n\u001b[0;32m    286\u001b[0m \u001b[38;5;28;01mif\u001b[39;00m \u001b[38;5;129;01mnot\u001b[39;00m \u001b[38;5;28mself\u001b[39m\u001b[38;5;241m.\u001b[39mdone():\n\u001b[0;32m    287\u001b[0m     \u001b[38;5;28;01mraise\u001b[39;00m \u001b[38;5;167;01mRuntimeError\u001b[39;00m(\u001b[38;5;124m\"\u001b[39m\u001b[38;5;124mawait wasn\u001b[39m\u001b[38;5;124m'\u001b[39m\u001b[38;5;124mt used with future\u001b[39m\u001b[38;5;124m\"\u001b[39m)\n",
      "File \u001b[1;32mc:\\Users\\This PC\\miniconda3\\envs\\asia\\lib\\asyncio\\tasks.py:304\u001b[0m, in \u001b[0;36mTask.__wakeup\u001b[1;34m(self, future)\u001b[0m\n\u001b[0;32m    302\u001b[0m \u001b[38;5;28;01mdef\u001b[39;00m \u001b[38;5;21m__wakeup\u001b[39m(\u001b[38;5;28mself\u001b[39m, future):\n\u001b[0;32m    303\u001b[0m     \u001b[38;5;28;01mtry\u001b[39;00m:\n\u001b[1;32m--> 304\u001b[0m         \u001b[43mfuture\u001b[49m\u001b[38;5;241;43m.\u001b[39;49m\u001b[43mresult\u001b[49m\u001b[43m(\u001b[49m\u001b[43m)\u001b[49m\n\u001b[0;32m    305\u001b[0m     \u001b[38;5;28;01mexcept\u001b[39;00m \u001b[38;5;167;01mBaseException\u001b[39;00m \u001b[38;5;28;01mas\u001b[39;00m exc:\n\u001b[0;32m    306\u001b[0m         \u001b[38;5;66;03m# This may also be a cancellation.\u001b[39;00m\n\u001b[0;32m    307\u001b[0m         \u001b[38;5;28mself\u001b[39m\u001b[38;5;241m.\u001b[39m__step(exc)\n",
      "File \u001b[1;32mc:\\Users\\This PC\\miniconda3\\envs\\asia\\lib\\asyncio\\futures.py:196\u001b[0m, in \u001b[0;36mFuture.result\u001b[1;34m(self)\u001b[0m\n\u001b[0;32m    194\u001b[0m \u001b[38;5;28;01mif\u001b[39;00m \u001b[38;5;28mself\u001b[39m\u001b[38;5;241m.\u001b[39m_state \u001b[38;5;241m==\u001b[39m _CANCELLED:\n\u001b[0;32m    195\u001b[0m     exc \u001b[38;5;241m=\u001b[39m \u001b[38;5;28mself\u001b[39m\u001b[38;5;241m.\u001b[39m_make_cancelled_error()\n\u001b[1;32m--> 196\u001b[0m     \u001b[38;5;28;01mraise\u001b[39;00m exc\n\u001b[0;32m    197\u001b[0m \u001b[38;5;28;01mif\u001b[39;00m \u001b[38;5;28mself\u001b[39m\u001b[38;5;241m.\u001b[39m_state \u001b[38;5;241m!=\u001b[39m _FINISHED:\n\u001b[0;32m    198\u001b[0m     \u001b[38;5;28;01mraise\u001b[39;00m exceptions\u001b[38;5;241m.\u001b[39mInvalidStateError(\u001b[38;5;124m'\u001b[39m\u001b[38;5;124mResult is not ready.\u001b[39m\u001b[38;5;124m'\u001b[39m)\n",
      "\u001b[1;31mCancelledError\u001b[0m: "
     ]
    }
   ],
   "source": [
    "import asyncio\n",
    "import aiohttp\n",
    "import uuid\n",
    "import os\n",
    "from datetime import datetime\n",
    "\n",
    "async def test_chat_and_save_audio():\n",
    "    API_URL = \"http://localhost:8000/chat-to-audio\"\n",
    "    \n",
    "    request_data = {\n",
    "        \"conversation_id\": str(uuid.uuid4()),\n",
    "        \"message\": {\n",
    "            \"id\": str(uuid.uuid4()),\n",
    "            \"role\": \"user\",\n",
    "            \"content\": \"Bạn có nói tục được không ?\"\n",
    "        }\n",
    "    }\n",
    "    \n",
    "    # Tạo thư mục audio nếu chưa tồn tại\n",
    "    if not os.path.exists('audio'):\n",
    "        os.makedirs('audio')\n",
    "    \n",
    "    # Tạo tên file với timestamp\n",
    "    timestamp = datetime.now().strftime(\"%Y%m%d_%H%M%S\")\n",
    "    filename = f\"audio/response_{timestamp}.mp3\"\n",
    "    \n",
    "    async with aiohttp.ClientSession() as session:\n",
    "        async with session.post(API_URL, json=request_data) as response:\n",
    "            print(f\"Status: {response.status}\")\n",
    "            \n",
    "            if response.status == 200:\n",
    "                # Mở file để ghi\n",
    "                with open(filename, 'wb') as f:\n",
    "                    while True:\n",
    "                        chunk = await response.content.read(1024)\n",
    "                        if not chunk:\n",
    "                            break\n",
    "                        f.write(chunk)\n",
    "                print(f\"Audio đã được lưu tại: {filename}\")\n",
    "            else:\n",
    "                error_text = await response.text()\n",
    "                print(f\"Error Response: {error_text}\")\n",
    "\n",
    "# For Jupyter notebook\n",
    "import nest_asyncio\n",
    "nest_asyncio.apply()\n",
    "\n",
    "# Run the test\n",
    "await test_chat_and_save_audio()"
   ]
  },
  {
   "cell_type": "code",
   "execution_count": 4,
   "metadata": {},
   "outputs": [
    {
     "name": "stdout",
     "output_type": "stream",
     "text": [
      "Status: 200\n",
      "Đã lưu audio response vào file: ./output_audio/response_20241114_174728.mp3\n"
     ]
    }
   ],
   "source": [
    "import os\n",
    "from datetime import datetime\n",
    "async def test_audio_to_audio():\n",
    "    API_URL = \"http://145.223.21.25:8001/audio-to-audio\"\n",
    "    AUDIO_PATH = \"./audio/response_20241113_174510.mp3\"\n",
    "    \n",
    "    if not os.path.exists(AUDIO_PATH):\n",
    "        print(f\"File không tồn tại: {AUDIO_PATH}\")\n",
    "        return\n",
    "\n",
    "    # Create output directory if it doesn't exist\n",
    "    output_dir = \"./output_audio\"\n",
    "    if not os.path.exists(output_dir):\n",
    "        os.makedirs(output_dir)\n",
    "\n",
    "    # Generate output filename with timestamp\n",
    "    timestamp = datetime.now().strftime(\"%Y%m%d_%H%M%S\")\n",
    "    output_filename = f\"{output_dir}/response_{timestamp}.mp3\"\n",
    "\n",
    "    # Tạo form data\n",
    "    form = aiohttp.FormData()\n",
    "    form.add_field('conversation_id', str(uuid.uuid4()))\n",
    "    form.add_field('audio_file', \n",
    "                  open(AUDIO_PATH, 'rb'),\n",
    "                  filename='audio.mp3',\n",
    "                  content_type='audio/mpeg')\n",
    "\n",
    "    async with aiohttp.ClientSession() as session:\n",
    "        async with session.post(API_URL, data=form) as response:\n",
    "            print(f\"Status: {response.status}\")\n",
    "            \n",
    "            if response.status == 200:\n",
    "                # Save the audio response to file\n",
    "                with open(output_filename, 'wb') as f:\n",
    "                    async for chunk in response.content.iter_chunked(1024):\n",
    "                        f.write(chunk)\n",
    "                \n",
    "                print(f\"Đã lưu audio response vào file: {output_filename}\")\n",
    "            else:\n",
    "                error_text = await response.text()\n",
    "                print(f\"Error Response: {error_text}\")\n",
    "\n",
    "# For Jupyter notebook\n",
    "import nest_asyncio\n",
    "nest_asyncio.apply()\n",
    "\n",
    "# Run the test\n",
    "await test_audio_to_audio()"
   ]
  },
  {
   "cell_type": "code",
   "execution_count": 1,
   "metadata": {},
   "outputs": [
    {
     "name": "stdout",
     "output_type": "stream",
     "text": [
      "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\n"
     ]
    }
   ],
   "source": [
    "import base64\n",
    "\n",
    "# Read your audio file\n",
    "with open('./audio/hello-46355.mp3', 'rb') as audio_file:\n",
    "    audio_bytes = audio_file.read()\n",
    "    base64_audio = base64.b64encode(audio_bytes).decode('utf-8')\n",
    "    print(base64_audio)  # Copy this output to use in Postman"
   ]
  }
 ],
 "metadata": {
  "kernelspec": {
   "display_name": "asia",
   "language": "python",
   "name": "python3"
  },
  "language_info": {
   "codemirror_mode": {
    "name": "ipython",
    "version": 3
   },
   "file_extension": ".py",
   "mimetype": "text/x-python",
   "name": "python",
   "nbconvert_exporter": "python",
   "pygments_lexer": "ipython3",
   "version": "3.10.15"
  }
 },
 "nbformat": 4,
 "nbformat_minor": 2
}
