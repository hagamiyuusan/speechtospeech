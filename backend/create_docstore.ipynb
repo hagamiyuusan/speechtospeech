{
 "cells": [
  {
   "cell_type": "code",
   "execution_count": 5,
   "metadata": {},
   "outputs": [],
   "source": [
    "from app.containers import Container"
   ]
  },
  {
   "cell_type": "code",
   "execution_count": 7,
   "metadata": {},
   "outputs": [],
   "source": [
    "container = Container()"
   ]
  },
  {
   "cell_type": "code",
   "execution_count": 12,
   "metadata": {},
   "outputs": [
    {
     "ename": "ValueError",
     "evalue": "Missing required config value 'persist_directory'",
     "output_type": "error",
     "traceback": [
      "\u001b[0;31m---------------------------------------------------------------------------\u001b[0m",
      "\u001b[0;31mValueError\u001b[0m                                Traceback (most recent call last)",
      "Cell \u001b[0;32mIn[12], line 1\u001b[0m\n\u001b[0;32m----> 1\u001b[0m retriever_handler \u001b[38;5;241m=\u001b[39m \u001b[43mcontainer\u001b[49m\u001b[38;5;241;43m.\u001b[39;49m\u001b[43mretriever\u001b[49m\u001b[43m(\u001b[49m\u001b[43m)\u001b[49m\n",
      "File \u001b[0;32msrc/dependency_injector/providers.pyx:225\u001b[0m, in \u001b[0;36mdependency_injector.providers.Provider.__call__\u001b[0;34m()\u001b[0m\n",
      "File \u001b[0;32msrc/dependency_injector/providers.pyx:3049\u001b[0m, in \u001b[0;36mdependency_injector.providers.Singleton._provide\u001b[0;34m()\u001b[0m\n",
      "File \u001b[0;32msrc/dependency_injector/providers.pxd:650\u001b[0m, in \u001b[0;36mdependency_injector.providers.__factory_call\u001b[0;34m()\u001b[0m\n",
      "File \u001b[0;32msrc/dependency_injector/providers.pxd:577\u001b[0m, in \u001b[0;36mdependency_injector.providers.__call\u001b[0;34m()\u001b[0m\n",
      "File \u001b[0;32msrc/dependency_injector/providers.pxd:445\u001b[0m, in \u001b[0;36mdependency_injector.providers.__provide_keyword_args\u001b[0;34m()\u001b[0m\n",
      "File \u001b[0;32msrc/dependency_injector/providers.pxd:365\u001b[0m, in \u001b[0;36mdependency_injector.providers.__get_value\u001b[0;34m()\u001b[0m\n",
      "File \u001b[0;32msrc/dependency_injector/providers.pyx:225\u001b[0m, in \u001b[0;36mdependency_injector.providers.Provider.__call__\u001b[0;34m()\u001b[0m\n",
      "File \u001b[0;32msrc/dependency_injector/providers.pyx:3049\u001b[0m, in \u001b[0;36mdependency_injector.providers.Singleton._provide\u001b[0;34m()\u001b[0m\n",
      "File \u001b[0;32msrc/dependency_injector/providers.pxd:650\u001b[0m, in \u001b[0;36mdependency_injector.providers.__factory_call\u001b[0;34m()\u001b[0m\n",
      "File \u001b[0;32msrc/dependency_injector/providers.pxd:608\u001b[0m, in \u001b[0;36mdependency_injector.providers.__call\u001b[0;34m()\u001b[0m\n",
      "File \u001b[0;32m~/speechtospeech/backend/retrieval_handler/vectorstore_handler.py:14\u001b[0m, in \u001b[0;36mVectorStoreHandler.__init__\u001b[0;34m(self, path)\u001b[0m\n\u001b[1;32m     13\u001b[0m \u001b[38;5;28;01mdef\u001b[39;00m \u001b[38;5;21m__init__\u001b[39m(\u001b[38;5;28mself\u001b[39m,path: \u001b[38;5;28mstr\u001b[39m \u001b[38;5;241m=\u001b[39m \u001b[38;5;124m\"\u001b[39m\u001b[38;5;124m./vectorstore\u001b[39m\u001b[38;5;124m\"\u001b[39m):\n\u001b[0;32m---> 14\u001b[0m     \u001b[38;5;28mself\u001b[39m\u001b[38;5;241m.\u001b[39mchroma_client \u001b[38;5;241m=\u001b[39m \u001b[43mchromadb\u001b[49m\u001b[38;5;241;43m.\u001b[39;49m\u001b[43mPersistentClient\u001b[49m\u001b[43m(\u001b[49m\u001b[43mpath\u001b[49m\u001b[38;5;241;43m=\u001b[39;49m\u001b[43mpath\u001b[49m\u001b[43m)\u001b[49m\n\u001b[1;32m     15\u001b[0m     \u001b[38;5;28mself\u001b[39m\u001b[38;5;241m.\u001b[39m_collections \u001b[38;5;241m=\u001b[39m {}\n",
      "File \u001b[0;32m~/miniconda3/envs/kotaemon/lib/python3.11/site-packages/chromadb/__init__.py:153\u001b[0m, in \u001b[0;36mPersistentClient\u001b[0;34m(path, settings, tenant, database)\u001b[0m\n\u001b[1;32m    150\u001b[0m tenant \u001b[38;5;241m=\u001b[39m \u001b[38;5;28mstr\u001b[39m(tenant)\n\u001b[1;32m    151\u001b[0m database \u001b[38;5;241m=\u001b[39m \u001b[38;5;28mstr\u001b[39m(database)\n\u001b[0;32m--> 153\u001b[0m \u001b[38;5;28;01mreturn\u001b[39;00m \u001b[43mClientCreator\u001b[49m\u001b[43m(\u001b[49m\u001b[43mtenant\u001b[49m\u001b[38;5;241;43m=\u001b[39;49m\u001b[43mtenant\u001b[49m\u001b[43m,\u001b[49m\u001b[43m \u001b[49m\u001b[43mdatabase\u001b[49m\u001b[38;5;241;43m=\u001b[39;49m\u001b[43mdatabase\u001b[49m\u001b[43m,\u001b[49m\u001b[43m \u001b[49m\u001b[43msettings\u001b[49m\u001b[38;5;241;43m=\u001b[39;49m\u001b[43msettings\u001b[49m\u001b[43m)\u001b[49m\n",
      "File \u001b[0;32m~/miniconda3/envs/kotaemon/lib/python3.11/site-packages/chromadb/api/client.py:60\u001b[0m, in \u001b[0;36mClient.__init__\u001b[0;34m(self, tenant, database, settings)\u001b[0m\n\u001b[1;32m     58\u001b[0m \u001b[38;5;28mself\u001b[39m\u001b[38;5;241m.\u001b[39mdatabase \u001b[38;5;241m=\u001b[39m database\n\u001b[1;32m     59\u001b[0m \u001b[38;5;66;03m# Create an admin client for verifying that databases and tenants exist\u001b[39;00m\n\u001b[0;32m---> 60\u001b[0m \u001b[38;5;28mself\u001b[39m\u001b[38;5;241m.\u001b[39m_admin_client \u001b[38;5;241m=\u001b[39m \u001b[43mAdminClient\u001b[49m\u001b[38;5;241;43m.\u001b[39;49m\u001b[43mfrom_system\u001b[49m\u001b[43m(\u001b[49m\u001b[38;5;28;43mself\u001b[39;49m\u001b[38;5;241;43m.\u001b[39;49m\u001b[43m_system\u001b[49m\u001b[43m)\u001b[49m\n\u001b[1;32m     61\u001b[0m \u001b[38;5;28mself\u001b[39m\u001b[38;5;241m.\u001b[39m_validate_tenant_database(tenant\u001b[38;5;241m=\u001b[39mtenant, database\u001b[38;5;241m=\u001b[39mdatabase)\n\u001b[1;32m     63\u001b[0m \u001b[38;5;66;03m# Get the root system component we want to interact with\u001b[39;00m\n",
      "File \u001b[0;32m~/miniconda3/envs/kotaemon/lib/python3.11/site-packages/chromadb/api/client.py:428\u001b[0m, in \u001b[0;36mAdminClient.from_system\u001b[0;34m(cls, system)\u001b[0m\n\u001b[1;32m    421\u001b[0m \u001b[38;5;129m@classmethod\u001b[39m\n\u001b[1;32m    422\u001b[0m \u001b[38;5;129m@override\u001b[39m\n\u001b[1;32m    423\u001b[0m \u001b[38;5;28;01mdef\u001b[39;00m \u001b[38;5;21mfrom_system\u001b[39m(\n\u001b[1;32m    424\u001b[0m     \u001b[38;5;28mcls\u001b[39m,\n\u001b[1;32m    425\u001b[0m     system: System,\n\u001b[1;32m    426\u001b[0m ) \u001b[38;5;241m-\u001b[39m\u001b[38;5;241m>\u001b[39m \u001b[38;5;124m\"\u001b[39m\u001b[38;5;124mAdminClient\u001b[39m\u001b[38;5;124m\"\u001b[39m:\n\u001b[1;32m    427\u001b[0m     SharedSystemClient\u001b[38;5;241m.\u001b[39m_populate_data_from_system(system)\n\u001b[0;32m--> 428\u001b[0m     instance \u001b[38;5;241m=\u001b[39m \u001b[38;5;28;43mcls\u001b[39;49m\u001b[43m(\u001b[49m\u001b[43msettings\u001b[49m\u001b[38;5;241;43m=\u001b[39;49m\u001b[43msystem\u001b[49m\u001b[38;5;241;43m.\u001b[39;49m\u001b[43msettings\u001b[49m\u001b[43m)\u001b[49m\n\u001b[1;32m    429\u001b[0m     \u001b[38;5;28;01mreturn\u001b[39;00m instance\n",
      "File \u001b[0;32m~/miniconda3/envs/kotaemon/lib/python3.11/site-packages/chromadb/api/client.py:403\u001b[0m, in \u001b[0;36mAdminClient.__init__\u001b[0;34m(self, settings)\u001b[0m\n\u001b[1;32m    401\u001b[0m \u001b[38;5;28;01mdef\u001b[39;00m \u001b[38;5;21m__init__\u001b[39m(\u001b[38;5;28mself\u001b[39m, settings: Settings \u001b[38;5;241m=\u001b[39m Settings()) \u001b[38;5;241m-\u001b[39m\u001b[38;5;241m>\u001b[39m \u001b[38;5;28;01mNone\u001b[39;00m:\n\u001b[1;32m    402\u001b[0m     \u001b[38;5;28msuper\u001b[39m()\u001b[38;5;241m.\u001b[39m\u001b[38;5;21m__init__\u001b[39m(settings)\n\u001b[0;32m--> 403\u001b[0m     \u001b[38;5;28mself\u001b[39m\u001b[38;5;241m.\u001b[39m_server \u001b[38;5;241m=\u001b[39m \u001b[38;5;28;43mself\u001b[39;49m\u001b[38;5;241;43m.\u001b[39;49m\u001b[43m_system\u001b[49m\u001b[38;5;241;43m.\u001b[39;49m\u001b[43minstance\u001b[49m\u001b[43m(\u001b[49m\u001b[43mServerAPI\u001b[49m\u001b[43m)\u001b[49m\n",
      "File \u001b[0;32m~/miniconda3/envs/kotaemon/lib/python3.11/site-packages/chromadb/config.py:397\u001b[0m, in \u001b[0;36mSystem.instance\u001b[0;34m(self, type)\u001b[0m\n\u001b[1;32m    394\u001b[0m     \u001b[38;5;28mtype\u001b[39m \u001b[38;5;241m=\u001b[39m get_class(fqn, \u001b[38;5;28mtype\u001b[39m)\n\u001b[1;32m    396\u001b[0m \u001b[38;5;28;01mif\u001b[39;00m \u001b[38;5;28mtype\u001b[39m \u001b[38;5;129;01mnot\u001b[39;00m \u001b[38;5;129;01min\u001b[39;00m \u001b[38;5;28mself\u001b[39m\u001b[38;5;241m.\u001b[39m_instances:\n\u001b[0;32m--> 397\u001b[0m     impl \u001b[38;5;241m=\u001b[39m \u001b[38;5;28;43mtype\u001b[39;49m\u001b[43m(\u001b[49m\u001b[38;5;28;43mself\u001b[39;49m\u001b[43m)\u001b[49m\n\u001b[1;32m    398\u001b[0m     \u001b[38;5;28mself\u001b[39m\u001b[38;5;241m.\u001b[39m_instances[\u001b[38;5;28mtype\u001b[39m] \u001b[38;5;241m=\u001b[39m impl\n\u001b[1;32m    399\u001b[0m     \u001b[38;5;28;01mif\u001b[39;00m \u001b[38;5;28mself\u001b[39m\u001b[38;5;241m.\u001b[39m_running:\n",
      "File \u001b[0;32m~/miniconda3/envs/kotaemon/lib/python3.11/site-packages/chromadb/api/segment.py:98\u001b[0m, in \u001b[0;36mSegmentAPI.__init__\u001b[0;34m(self, system)\u001b[0m\n\u001b[1;32m     96\u001b[0m \u001b[38;5;28msuper\u001b[39m()\u001b[38;5;241m.\u001b[39m\u001b[38;5;21m__init__\u001b[39m(system)\n\u001b[1;32m     97\u001b[0m \u001b[38;5;28mself\u001b[39m\u001b[38;5;241m.\u001b[39m_settings \u001b[38;5;241m=\u001b[39m system\u001b[38;5;241m.\u001b[39msettings\n\u001b[0;32m---> 98\u001b[0m \u001b[38;5;28mself\u001b[39m\u001b[38;5;241m.\u001b[39m_sysdb \u001b[38;5;241m=\u001b[39m \u001b[38;5;28;43mself\u001b[39;49m\u001b[38;5;241;43m.\u001b[39;49m\u001b[43mrequire\u001b[49m\u001b[43m(\u001b[49m\u001b[43mSysDB\u001b[49m\u001b[43m)\u001b[49m\n\u001b[1;32m     99\u001b[0m \u001b[38;5;28mself\u001b[39m\u001b[38;5;241m.\u001b[39m_manager \u001b[38;5;241m=\u001b[39m \u001b[38;5;28mself\u001b[39m\u001b[38;5;241m.\u001b[39mrequire(SegmentManager)\n\u001b[1;32m    100\u001b[0m \u001b[38;5;28mself\u001b[39m\u001b[38;5;241m.\u001b[39m_quota \u001b[38;5;241m=\u001b[39m \u001b[38;5;28mself\u001b[39m\u001b[38;5;241m.\u001b[39mrequire(QuotaEnforcer)\n",
      "File \u001b[0;32m~/miniconda3/envs/kotaemon/lib/python3.11/site-packages/chromadb/config.py:290\u001b[0m, in \u001b[0;36mComponent.require\u001b[0;34m(self, type)\u001b[0m\n\u001b[1;32m    287\u001b[0m \u001b[38;5;28;01mdef\u001b[39;00m \u001b[38;5;21mrequire\u001b[39m(\u001b[38;5;28mself\u001b[39m, \u001b[38;5;28mtype\u001b[39m: Type[T]) \u001b[38;5;241m-\u001b[39m\u001b[38;5;241m>\u001b[39m T:\n\u001b[1;32m    288\u001b[0m \u001b[38;5;250m    \u001b[39m\u001b[38;5;124;03m\"\"\"Get a Component instance of the given type, and register as a dependency of\u001b[39;00m\n\u001b[1;32m    289\u001b[0m \u001b[38;5;124;03m    that instance.\"\"\"\u001b[39;00m\n\u001b[0;32m--> 290\u001b[0m     inst \u001b[38;5;241m=\u001b[39m \u001b[38;5;28;43mself\u001b[39;49m\u001b[38;5;241;43m.\u001b[39;49m\u001b[43m_system\u001b[49m\u001b[38;5;241;43m.\u001b[39;49m\u001b[43minstance\u001b[49m\u001b[43m(\u001b[49m\u001b[38;5;28;43mtype\u001b[39;49m\u001b[43m)\u001b[49m\n\u001b[1;32m    291\u001b[0m     \u001b[38;5;28mself\u001b[39m\u001b[38;5;241m.\u001b[39m_dependencies\u001b[38;5;241m.\u001b[39madd(inst)\n\u001b[1;32m    292\u001b[0m     \u001b[38;5;28;01mreturn\u001b[39;00m inst\n",
      "File \u001b[0;32m~/miniconda3/envs/kotaemon/lib/python3.11/site-packages/chromadb/config.py:397\u001b[0m, in \u001b[0;36mSystem.instance\u001b[0;34m(self, type)\u001b[0m\n\u001b[1;32m    394\u001b[0m     \u001b[38;5;28mtype\u001b[39m \u001b[38;5;241m=\u001b[39m get_class(fqn, \u001b[38;5;28mtype\u001b[39m)\n\u001b[1;32m    396\u001b[0m \u001b[38;5;28;01mif\u001b[39;00m \u001b[38;5;28mtype\u001b[39m \u001b[38;5;129;01mnot\u001b[39;00m \u001b[38;5;129;01min\u001b[39;00m \u001b[38;5;28mself\u001b[39m\u001b[38;5;241m.\u001b[39m_instances:\n\u001b[0;32m--> 397\u001b[0m     impl \u001b[38;5;241m=\u001b[39m \u001b[38;5;28;43mtype\u001b[39;49m\u001b[43m(\u001b[49m\u001b[38;5;28;43mself\u001b[39;49m\u001b[43m)\u001b[49m\n\u001b[1;32m    398\u001b[0m     \u001b[38;5;28mself\u001b[39m\u001b[38;5;241m.\u001b[39m_instances[\u001b[38;5;28mtype\u001b[39m] \u001b[38;5;241m=\u001b[39m impl\n\u001b[1;32m    399\u001b[0m     \u001b[38;5;28;01mif\u001b[39;00m \u001b[38;5;28mself\u001b[39m\u001b[38;5;241m.\u001b[39m_running:\n",
      "File \u001b[0;32m~/miniconda3/envs/kotaemon/lib/python3.11/site-packages/chromadb/db/impl/sqlite.py:86\u001b[0m, in \u001b[0;36mSqliteDB.__init__\u001b[0;34m(self, system)\u001b[0m\n\u001b[1;32m     83\u001b[0m     \u001b[38;5;28mself\u001b[39m\u001b[38;5;241m.\u001b[39m_conn_pool \u001b[38;5;241m=\u001b[39m LockPool(\u001b[38;5;28mself\u001b[39m\u001b[38;5;241m.\u001b[39m_db_file, is_uri\u001b[38;5;241m=\u001b[39m\u001b[38;5;28;01mTrue\u001b[39;00m)\n\u001b[1;32m     84\u001b[0m \u001b[38;5;28;01melse\u001b[39;00m:\n\u001b[1;32m     85\u001b[0m     \u001b[38;5;28mself\u001b[39m\u001b[38;5;241m.\u001b[39m_db_file \u001b[38;5;241m=\u001b[39m (\n\u001b[0;32m---> 86\u001b[0m         \u001b[38;5;28;43mself\u001b[39;49m\u001b[38;5;241;43m.\u001b[39;49m\u001b[43m_settings\u001b[49m\u001b[38;5;241;43m.\u001b[39;49m\u001b[43mrequire\u001b[49m\u001b[43m(\u001b[49m\u001b[38;5;124;43m\"\u001b[39;49m\u001b[38;5;124;43mpersist_directory\u001b[39;49m\u001b[38;5;124;43m\"\u001b[39;49m\u001b[43m)\u001b[49m \u001b[38;5;241m+\u001b[39m \u001b[38;5;124m\"\u001b[39m\u001b[38;5;124m/chroma.sqlite3\u001b[39m\u001b[38;5;124m\"\u001b[39m\n\u001b[1;32m     87\u001b[0m     )\n\u001b[1;32m     88\u001b[0m     \u001b[38;5;28;01mif\u001b[39;00m \u001b[38;5;129;01mnot\u001b[39;00m os\u001b[38;5;241m.\u001b[39mpath\u001b[38;5;241m.\u001b[39mexists(\u001b[38;5;28mself\u001b[39m\u001b[38;5;241m.\u001b[39m_db_file):\n\u001b[1;32m     89\u001b[0m         os\u001b[38;5;241m.\u001b[39mmakedirs(os\u001b[38;5;241m.\u001b[39mpath\u001b[38;5;241m.\u001b[39mdirname(\u001b[38;5;28mself\u001b[39m\u001b[38;5;241m.\u001b[39m_db_file), exist_ok\u001b[38;5;241m=\u001b[39m\u001b[38;5;28;01mTrue\u001b[39;00m)\n",
      "File \u001b[0;32m~/miniconda3/envs/kotaemon/lib/python3.11/site-packages/chromadb/config.py:259\u001b[0m, in \u001b[0;36mSettings.require\u001b[0;34m(self, key)\u001b[0m\n\u001b[1;32m    257\u001b[0m val \u001b[38;5;241m=\u001b[39m \u001b[38;5;28mself\u001b[39m[key]\n\u001b[1;32m    258\u001b[0m \u001b[38;5;28;01mif\u001b[39;00m val \u001b[38;5;129;01mis\u001b[39;00m \u001b[38;5;28;01mNone\u001b[39;00m:\n\u001b[0;32m--> 259\u001b[0m     \u001b[38;5;28;01mraise\u001b[39;00m \u001b[38;5;167;01mValueError\u001b[39;00m(\u001b[38;5;124mf\u001b[39m\u001b[38;5;124m\"\u001b[39m\u001b[38;5;124mMissing required config value \u001b[39m\u001b[38;5;124m'\u001b[39m\u001b[38;5;132;01m{\u001b[39;00mkey\u001b[38;5;132;01m}\u001b[39;00m\u001b[38;5;124m'\u001b[39m\u001b[38;5;124m\"\u001b[39m)\n\u001b[1;32m    260\u001b[0m \u001b[38;5;28;01mreturn\u001b[39;00m val\n",
      "\u001b[0;31mValueError\u001b[0m: Missing required config value 'persist_directory'"
     ]
    }
   ],
   "source": [
    "retriever_handler = container.retriever()"
   ]
  },
  {
   "cell_type": "code",
   "execution_count": 6,
   "metadata": {},
   "outputs": [
    {
     "ename": "NameError",
     "evalue": "name 'default_file_metadata_func' is not defined",
     "output_type": "error",
     "traceback": [
      "\u001b[0;31m---------------------------------------------------------------------------\u001b[0m",
      "\u001b[0;31mNameError\u001b[0m                                 Traceback (most recent call last)",
      "Cell \u001b[0;32mIn[6], line 1\u001b[0m\n\u001b[0;32m----> 1\u001b[0m \u001b[43mdefault_file_metadata_func\u001b[49m(\u001b[38;5;124m\"\u001b[39m\u001b[38;5;124m./ASEAN.docx\u001b[39m\u001b[38;5;124m\"\u001b[39m)\n",
      "\u001b[0;31mNameError\u001b[0m: name 'default_file_metadata_func' is not defined"
     ]
    }
   ],
   "source": [
    "default_file_metadata_func(\"./ASEAN.docx\")"
   ]
  },
  {
   "cell_type": "code",
   "execution_count": null,
   "metadata": {},
   "outputs": [],
   "source": [
    "from app.containers import Container\n",
    "container = Container()\n",
    "container.config.from_yaml(\"config.yaml\")\n",
    "\n",
    "container.wire(modules=[__name__])\n",
    "chat_service = container.chat_service()\n",
    "from uuid import UUID, uuid4\n",
    "from app.schema import Message\n",
    "\n",
    "async for content in chat_service.stream_response(id=uuid4(), message=Message(id = str(uuid4()), role=\"user\", content=\"Xin chào?\")):\n",
    "    print(content, end='', flush=True)\n"
   ]
  },
  {
   "cell_type": "code",
   "execution_count": null,
   "metadata": {},
   "outputs": [],
   "source": [
    "from uuid import UUID, uuid4\n",
    "from app.schema import Message\n",
    "\n",
    "async for content in chat_service.stream_response(id=uuid4(), message=Message(id = str(uuid4()), role=\"user\", content=\"Việt Nam gia nhập ASEAN vào năm nào?\")):\n",
    "    print(content, end='', flush=True)\n"
   ]
  },
  {
   "cell_type": "code",
   "execution_count": null,
   "metadata": {},
   "outputs": [],
   "source": [
    "#write code to load config from config.yaml\n",
    "from yaml import load, Loader\n",
    "with open(\"config.yaml\", \"r\") as f:\n",
    "    config = load(f, Loader=Loader)\n",
    "config\n"
   ]
  },
  {
   "cell_type": "code",
   "execution_count": 8,
   "metadata": {},
   "outputs": [],
   "source": [
    "import asyncio\n",
    "from openai import AsyncOpenAI\n",
    "client = AsyncOpenAI(api_key=config[\"llm\"][\"api_key\"])\n",
    "import pyaudio\n",
    "\n",
    "async def stream_audio():\n",
    "    p = pyaudio.PyAudio()\n",
    "    stream = p.open(format=8,\n",
    "                    channels=1,\n",
    "                    rate=24_000,\n",
    "                    output=True)\n",
    "\n",
    "    async with client.audio.speech.with_streaming_response.create(\n",
    "            model=\"tts-1\",\n",
    "            voice=\"alloy\",\n",
    "            input=\"\"\"InvokerAI có thể nói là sự kết hợp của Automatic1111 và ComfyUI kèm với đó là sự nâng cấp đang kể về giao diện hiện đại hơn. Hiện tại InvokerAI có thể hoạt động trên cả 2 loại generate ảnh là workflow note kéo thả và generate ảnh mặc định theo giao diện có sẵn. Invoker khá chú trọng tới trải nghiệm người dùng khi cho phép quản lý ảnh và thư viện tài nguyên một cách nhất quán ngay trên giao diện sử dụng. Tuy nhiên Invoker lại không cho phép phát triển các extension mở, các update công nghệ mới khá chậm dẫn đến việc khá kén người dùng phổ thông. Ngoài ra khi sử dụng Invoker AI, các cú pháp về prompt cũng được viết khác hoàn toàn cho với ComfyUI và Automatic cũng là một điểm trừ khiến cho người dùng khó tiếp cận.\"\"\",\n",
    "            response_format=\"pcm\"\n",
    "    ) as response:\n",
    "        async for chunk in response.iter_bytes(1024):\n",
    "            stream.write(chunk)\n",
    "            yield chunk\n",
    "\n",
    "    stream.stop_stream()\n",
    "    stream.close()\n",
    "    p.terminate()\n",
    "\n",
    "# To run the async generator in Jupyter notebook\n",
    "async for chunk in stream_audio():\n",
    "    pass  # or do something with each chunk if needed"
   ]
  },
  {
   "cell_type": "code",
   "execution_count": 4,
   "metadata": {},
   "outputs": [],
   "source": [
    "from voice.stt import STT\n",
    "from fastapi import UploadFile\n",
    "stt = STT(api_key=config[\"llm\"][\"groq_api_key\"])\n",
    "import io\n",
    "# Open the file in binary mode ('rb')\n"
   ]
  },
  {
   "cell_type": "code",
   "execution_count": null,
   "metadata": {},
   "outputs": [],
   "source": [
    "with open(\"./sample-0.mp3\", \"rb\") as f:\n",
    "    file_content = f.read()\n",
    "    # Create UploadFile with the file content\n",
    "    upload_file = UploadFile(filename=\"sample-0.mp3\", file=io.BytesIO(file_content))\n",
    "    result = await stt.generate_audio(upload_file)\n",
    "result"
   ]
  },
  {
   "cell_type": "code",
   "execution_count": null,
   "metadata": {},
   "outputs": [],
   "source": [
    "import aiohttp\n",
    "import asyncio\n",
    "import io\n",
    "\n",
    "async def test_stt_endpoint():\n",
    "    # Replace with your actual audio file path\n",
    "    audio_file_path = \"./sample-0.mp3\"\n",
    "    \n",
    "    # Read the audio file\n",
    "    with open(audio_file_path, \"rb\") as f:\n",
    "        file_content = f.read()\n",
    "    \n",
    "    # Create the form data\n",
    "    data = aiohttp.FormData()\n",
    "    data.add_field('input',\n",
    "                   io.BytesIO(file_content),\n",
    "                   filename='audio.mp3',\n",
    "                   content_type='audio/mpeg')\n",
    "    \n",
    "    # Make the request\n",
    "    async with aiohttp.ClientSession() as session:\n",
    "        async with session.post('http://localhost:8000/stt', data=data) as response:\n",
    "            # Print status\n",
    "            print(f\"Status: {response.status}\")\n",
    "            \n",
    "            # Get the response\n",
    "            result = await response.text()\n",
    "            print(f\"Response: {result}\")\n",
    "\n",
    "# Run the test\n",
    "await test_stt_endpoint()"
   ]
  },
  {
   "cell_type": "code",
   "execution_count": null,
   "metadata": {},
   "outputs": [],
   "source": [
    "import asyncio\n",
    "import aiohttp\n",
    "import uuid\n",
    "import os\n",
    "from datetime import datetime\n",
    "\n",
    "async def test_chat_and_save_audio():\n",
    "    API_URL = \"http://localhost:8000/chat-to-audio\"\n",
    "    \n",
    "    request_data = {\n",
    "        \"conversation_id\": str(uuid.uuid4()),\n",
    "        \"message\": {\n",
    "            \"id\": str(uuid.uuid4()),\n",
    "            \"role\": \"user\",\n",
    "            \"content\": \"Bạn có nói tục được không ?\"\n",
    "        }\n",
    "    }\n",
    "    \n",
    "    # Tạo thư mục audio nếu chưa tồn tại\n",
    "    if not os.path.exists('audio'):\n",
    "        os.makedirs('audio')\n",
    "    \n",
    "    # Tạo tên file với timestamp\n",
    "    timestamp = datetime.now().strftime(\"%Y%m%d_%H%M%S\")\n",
    "    filename = f\"audio/response_{timestamp}.mp3\"\n",
    "    \n",
    "    async with aiohttp.ClientSession() as session:\n",
    "        async with session.post(API_URL, json=request_data) as response:\n",
    "            print(f\"Status: {response.status}\")\n",
    "            \n",
    "            if response.status == 200:\n",
    "                # Mở file để ghi\n",
    "                with open(filename, 'wb') as f:\n",
    "                    while True:\n",
    "                        chunk = await response.content.read(1024)\n",
    "                        if not chunk:\n",
    "                            break\n",
    "                        f.write(chunk)\n",
    "                print(f\"Audio đã được lưu tại: {filename}\")\n",
    "            else:\n",
    "                error_text = await response.text()\n",
    "                print(f\"Error Response: {error_text}\")\n",
    "\n",
    "# For Jupyter notebook\n",
    "import nest_asyncio\n",
    "nest_asyncio.apply()\n",
    "\n",
    "# Run the test\n",
    "await test_chat_and_save_audio()"
   ]
  },
  {
   "cell_type": "code",
   "execution_count": null,
   "metadata": {},
   "outputs": [],
   "source": [
    "import os\n",
    "from datetime import datetime\n",
    "async def test_audio_to_audio():\n",
    "    API_URL = \"http://145.223.21.25:8001/audio-to-audio\"\n",
    "    AUDIO_PATH = \"./audio/response_20241113_174510.mp3\"\n",
    "    \n",
    "    if not os.path.exists(AUDIO_PATH):\n",
    "        print(f\"File không tồn tại: {AUDIO_PATH}\")\n",
    "        return\n",
    "\n",
    "    # Create output directory if it doesn't exist\n",
    "    output_dir = \"./output_audio\"\n",
    "    if not os.path.exists(output_dir):\n",
    "        os.makedirs(output_dir)\n",
    "\n",
    "    # Generate output filename with timestamp\n",
    "    timestamp = datetime.now().strftime(\"%Y%m%d_%H%M%S\")\n",
    "    output_filename = f\"{output_dir}/response_{timestamp}.mp3\"\n",
    "\n",
    "    # Tạo form data\n",
    "    form = aiohttp.FormData()\n",
    "    form.add_field('conversation_id', str(uuid.uuid4()))\n",
    "    form.add_field('audio_file', \n",
    "                  open(AUDIO_PATH, 'rb'),\n",
    "                  filename='audio.mp3',\n",
    "                  content_type='audio/mpeg')\n",
    "\n",
    "    async with aiohttp.ClientSession() as session:\n",
    "        async with session.post(API_URL, data=form) as response:\n",
    "            print(f\"Status: {response.status}\")\n",
    "            \n",
    "            if response.status == 200:\n",
    "                # Save the audio response to file\n",
    "                with open(output_filename, 'wb') as f:\n",
    "                    async for chunk in response.content.iter_chunked(1024):\n",
    "                        f.write(chunk)\n",
    "                \n",
    "                print(f\"Đã lưu audio response vào file: {output_filename}\")\n",
    "            else:\n",
    "                error_text = await response.text()\n",
    "                print(f\"Error Response: {error_text}\")\n",
    "\n",
    "# For Jupyter notebook\n",
    "import nest_asyncio\n",
    "nest_asyncio.apply()\n",
    "\n",
    "# Run the test\n",
    "await test_audio_to_audio()"
   ]
  },
  {
   "cell_type": "code",
   "execution_count": null,
   "metadata": {},
   "outputs": [],
   "source": [
    "import base64\n",
    "\n",
    "# Read your audio file\n",
    "with open('./audio/response.wav', 'rb') as audio_file:\n",
    "    audio_bytes = audio_file.read()\n",
    "    base64_audio = base64.b64encode(audio_bytes).decode('utf-8')\n",
    "    print(base64_audio)  # Copy this output to use in Postman"
   ]
  }
 ],
 "metadata": {
  "kernelspec": {
   "display_name": "asia",
   "language": "python",
   "name": "python3"
  },
  "language_info": {
   "codemirror_mode": {
    "name": "ipython",
    "version": 3
   },
   "file_extension": ".py",
   "mimetype": "text/x-python",
   "name": "python",
   "nbconvert_exporter": "python",
   "pygments_lexer": "ipython3",
   "version": "3.11.9"
  }
 },
 "nbformat": 4,
 "nbformat_minor": 2
}
